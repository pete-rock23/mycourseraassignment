{
 "cells": [
  {
   "cell_type": "markdown",
   "id": "56fa1a37",
   "metadata": {},
   "source": [
    "# Data Science Tools and Ecosystem"
   ]
  },
  {
   "cell_type": "markdown",
   "id": "83b5fda9",
   "metadata": {},
   "source": [
    "In this notebook, Data Science Tools and Ecosystem are summarized."
   ]
  },
  {
   "cell_type": "markdown",
   "id": "6bc881b7",
   "metadata": {},
   "source": [
    "Some of the popular languages that Data Scientists use are:\n",
    "1. python\n",
    "2. scala\n",
    "3. R\n",
    "4. SQL"
   ]
  },
  {
   "cell_type": "markdown",
   "id": "9404d06e",
   "metadata": {},
   "source": [
    "Some of the commonly used libraries used by Data Scientists include:\n",
    "1. Numpy\n",
    "2. sciskit\n",
    "3. pandas\n",
    "4. ggplot\n",
    "5. plotly "
   ]
  },
  {
   "cell_type": "markdown",
   "id": "ad403bd7",
   "metadata": {},
   "source": [
    "***Objectives***\n",
    "below are some of the objectives covered in this course:\n",
    ". popular Data Science languages \n",
    ". popular Data Science libraries \n",
    ". popular Data Science development environment"
   ]
  },
  {
   "cell_type": "markdown",
   "id": "ef63e80a",
   "metadata": {},
   "source": [
    "Some of the commonly used libraries used by Data Scientists include:\n",
    "\n",
    "|Data Science Tools|\n",
    "-----------------------------\n",
    "|watson studio|\n",
    "|IBM CLOUD|\n",
    "|JUBITER LAB|\n"
   ]
  },
  {
   "cell_type": "markdown",
   "id": "10668727",
   "metadata": {},
   "source": [
    "###Below are a few examples of evaluating arithmetic expressions in Python\n"
   ]
  },
  {
   "cell_type": "code",
   "execution_count": 1,
   "id": "e8c79b1c",
   "metadata": {},
   "outputs": [
    {
     "data": {
      "text/plain": [
       "17"
      ]
     },
     "execution_count": 1,
     "metadata": {},
     "output_type": "execute_result"
    }
   ],
   "source": [
    "(3*4)+5\n",
    " #This a simple arithmetic expression to mutiply then add integers\n",
    "    "
   ]
  },
  {
   "cell_type": "code",
   "execution_count": 2,
   "id": "5fb7d68b",
   "metadata": {},
   "outputs": [
    {
     "data": {
      "text/plain": [
       "3.3333333333333335"
      ]
     },
     "execution_count": 2,
     "metadata": {},
     "output_type": "execute_result"
    }
   ],
   "source": [
    "200/60\n",
    "# This a simple arithmetic expression to mutiply then add integers"
   ]
  },
  {
   "cell_type": "markdown",
   "id": "c2b25d73",
   "metadata": {},
   "source": [
    "##Author\n",
    "Odeh Peter"
   ]
  }
 ],
 "metadata": {
  "kernelspec": {
   "display_name": "Python 3 (ipykernel)",
   "language": "python",
   "name": "python3"
  },
  "language_info": {
   "codemirror_mode": {
    "name": "ipython",
    "version": 3
   },
   "file_extension": ".py",
   "mimetype": "text/x-python",
   "name": "python",
   "nbconvert_exporter": "python",
   "pygments_lexer": "ipython3",
   "version": "3.11.4"
  }
 },
 "nbformat": 4,
 "nbformat_minor": 5
}
